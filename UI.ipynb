{
 "cells": [
  {
   "cell_type": "code",
   "execution_count": 2,
   "metadata": {},
   "outputs": [],
   "source": [
    "from tkinter import Frame, Label, CENTER\n",
    "import LogicFinal as Lf\n",
    "import Constants as c"
   ]
  },
  {
   "cell_type": "code",
   "execution_count": 3,
   "metadata": {},
   "outputs": [],
   "source": [
    "class Game2048(Frame):\n",
    "    def __init__(self):\n",
    "        \n",
    "        Frame.__init__(self)\n",
    "        \n",
    "        self.grid()\n",
    "        self.master.title('2048')\n",
    "        self.master.bind(\"<Key>\", self.key_down)\n",
    "        \n",
    "        self.commands = {c.KeyUp: Lf.move_up, c.KeyDown: Lf.move_down, c.KeyLeft: Lf.move_left, c.KeyRight: Lf.move_right}\n",
    "        \n",
    "        self.gridCells = []\n",
    "        self.initGrid()\n",
    "        self.initMatrix()\n",
    "        self.upgradeGridCells()\n",
    "        \n",
    "        self.mainloop()\n",
    "        \n",
    "    def initGrid(self):\n",
    "        background = Frame(self, bg = c.Bkgd_Color_Game, width=c.size, height=c.size)\n",
    "        background.grid()\n",
    "        \n",
    "        for i in range(c.Grid_Len):\n",
    "            gridRow = []\n",
    "            for j in range(c.Grid_Len):\n",
    "                cell = Frame(background, bg = c.Bkgd_Color_EmptyCell, width=c.size/c.Grid_Len, height=c.size/c.Grid_Len)\n",
    "                cell.grid(row=i, column=j, padx=c.Grid_Padding, pady=c.Grid_Padding)\n",
    "                \n",
    "                t = Label(master=cell, text=\"\", bg = c.Bkgd_Color_EmptyCell, justify=CENTER, font=c.Font, width=5, height=2)\n",
    "                t.grid()\n",
    "                \n",
    "                gridRow.append(t)\n",
    "            self.gridCells.append(gridRow)\n",
    "    \n",
    "    def initMatrix(self):\n",
    "        self.matrix = Lf.start_game()\n",
    "        Lf.add_new_2(self.matrix)\n",
    "        Lf.add_new_2(self.matrix)\n",
    "        \n",
    "    def upgradeGridCells(self):\n",
    "        for i in range(c.Grid_Len):\n",
    "            for j in range(c.Grid_Len):\n",
    "                newNum = self.matrix[i][j]\n",
    "                if newNum == 0:\n",
    "                    self.gridCells[i][j].configure(text=\"\", bg = c.Bkgd_Color_EmptyCell)\n",
    "                else:\n",
    "                    self.gridCells[i][j].configure(text=str(newNum), bg = c.Bkgd_Color_Dict[newNum], \n",
    "                                                   fg = c.Cell_Color_Dict[newNum])\n",
    "        \n",
    "        self.update_idletasks()\n",
    "    \n",
    "    def key_down(self, event):\n",
    "        key = repr(event.char)\n",
    "        if key in self.commands:\n",
    "            self.matrix, changed = self.commands[key](self.matrix)\n",
    "            if changed:\n",
    "                Lf.add_new_2(self.matrix)\n",
    "                self.upgradeGridCells()\n",
    "                changed = False\n",
    "                \n",
    "                if Lf.get_curr_state(self.matrix) == 'WON':\n",
    "                    self.gridCells[1][1].configure(text=\"You\", bg = c.Bkgd_Color_EmptyCell)\n",
    "                    self.gridCells[1][2].configure(text=\"WON!\", bg = c.Bkgd_Color_EmptyCell)\n",
    "                    \n",
    "                if Lf.get_curr_state(self.matrix) == 'LOST':\n",
    "                    self.gridCells[1][1].configure(text=\"You\", bg = c.Bkgd_Color_EmptyCell)\n",
    "                    self.gridCells[1][2].configure(text=\"LOST!\", bg = c.Bkgd_Color_EmptyCell)"
   ]
  },
  {
   "cell_type": "code",
   "execution_count": 4,
   "metadata": {},
   "outputs": [],
   "source": [
    "gamegrid = Game2048()"
   ]
  },
  {
   "cell_type": "code",
   "execution_count": null,
   "metadata": {},
   "outputs": [],
   "source": []
  }
 ],
 "metadata": {
  "kernelspec": {
   "display_name": "Python 3",
   "language": "python",
   "name": "python3"
  },
  "language_info": {
   "codemirror_mode": {
    "name": "ipython",
    "version": 3
   },
   "file_extension": ".py",
   "mimetype": "text/x-python",
   "name": "python",
   "nbconvert_exporter": "python",
   "pygments_lexer": "ipython3",
   "version": "3.8.5"
  }
 },
 "nbformat": 4,
 "nbformat_minor": 4
}

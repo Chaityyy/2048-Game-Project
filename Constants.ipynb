{
 "cells": [
  {
   "cell_type": "code",
   "execution_count": 1,
   "metadata": {},
   "outputs": [],
   "source": [
    "size = 400\n",
    "Grid_Len = 4\n",
    "Grid_Padding = 10\n",
    "\n",
    "Bkgd_Color_Game = \"#92877d\"\n",
    "Bkgd_Color_EmptyCell = \"#9e948a\"\n",
    "\n",
    "Bkgd_Color_Dict = {2:\"#eee4da\", 4:\"#eee4da\", 8:\"#eee4da\", 16:\"#eee4da\", 32:\"#eee4da\", 64:\"#eee4da\", \n",
    "                   128:\"#eee4da\", 256:\"#eee4da\", 512:\"#eee4da\", 1024:\"#eee4da\", 2048:\"#eee4da\"}\n",
    "\n",
    "Cell_Color_Dict = {2:\"#776e65\", 4:\"#776e65\", 8:\"#776e65\", 16:\"#776e65\", 32:\"#776e65\", 64:\"#776e65\", \n",
    "                   128:\"#776e65\", 256:\"#776e65\", 512:\"#776e65\", 1024:\"#776e65\", 2048:\"#776e65\"}\n",
    "\n",
    "Font = (\"Verdana\", 40, \"bold\")\n",
    "\n",
    "KeyUp = \"'w'\"\n",
    "KeyDown = \"'s'\"\n",
    "KeyLeft = \"'a'\"\n",
    "KeyRight = \"'d'\"\n"
   ]
  }
 ],
 "metadata": {
  "kernelspec": {
   "display_name": "Python 3",
   "language": "python",
   "name": "python3"
  },
  "language_info": {
   "codemirror_mode": {
    "name": "ipython",
    "version": 3
   },
   "file_extension": ".py",
   "mimetype": "text/x-python",
   "name": "python",
   "nbconvert_exporter": "python",
   "pygments_lexer": "ipython3",
   "version": "3.8.5"
  }
 },
 "nbformat": 4,
 "nbformat_minor": 4
}
